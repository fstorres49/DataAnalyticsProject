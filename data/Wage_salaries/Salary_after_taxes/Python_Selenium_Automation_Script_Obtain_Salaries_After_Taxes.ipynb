{
 "cells": [
  {
   "cell_type": "code",
   "execution_count": 1,
   "id": "19cd6005",
   "metadata": {},
   "outputs": [],
   "source": [
    "import selenium\n",
    "from selenium import webdriver\n",
    "from webdriver_manager.chrome import ChromeDriverManager\n",
    "from selenium.webdriver.common.keys import Keys\n",
    "from selenium.webdriver.common.by import By\n",
    "import time"
   ]
  },
  {
   "cell_type": "code",
   "execution_count": null,
   "id": "6237fdb7",
   "metadata": {
    "scrolled": true
   },
   "outputs": [],
   "source": [
    "DF.loc[1146:]"
   ]
  },
  {
   "cell_type": "code",
   "execution_count": null,
   "id": "67fdc28b",
   "metadata": {
    "scrolled": true
   },
   "outputs": [],
   "source": [
    "DF.loc[2876:2888]"
   ]
  },
  {
   "cell_type": "code",
   "execution_count": null,
   "id": "0d7ed948",
   "metadata": {
    "scrolled": false
   },
   "outputs": [],
   "source": [
    "import pandas as pd\n",
    "df=pd.read_excel('Desktop//Count.xlsx')\n",
    "US=pd.read_excel('Desktop//US_States.xlsx')\n",
    "df['State']=df['State'].str.rstrip() #Remove space from Mississippi and New Mexico\n",
    "DF=df.merge(US, how='inner', on='State')\n",
    "#DF[DF['County'].str.contains('St\\.')]\n",
    "DF['County'] = DF['County'].str.replace('St\\.', 'Saint')\n",
    "#DF[DF['County'].str.contains('\\(Independent City\\)')]\n",
    "DF['County'] = DF['County'].str.replace('\\(Independent City\\)', '')\n",
    "DF['CountyCode']=DF['County']+', '+DF['Code']\n",
    "DF['TakeHome']=\"0\""
   ]
  },
  {
   "cell_type": "code",
   "execution_count": null,
   "id": "7d2acd91",
   "metadata": {
    "scrolled": true
   },
   "outputs": [],
   "source": [
    "DF"
   ]
  },
  {
   "cell_type": "code",
   "execution_count": null,
   "id": "f10edc29",
   "metadata": {},
   "outputs": [],
   "source": [
    "# Using Chrome to access web\n",
    "driver = webdriver.Chrome(executable_path=r'C:/Users/Parth Shrivastava/Downloads/chromedriver_win32/chromedriver.exe')\n",
    "# Open the website\n",
    "driver.get('https://smartasset.com/taxes/paycheck-calculator')"
   ]
  },
  {
   "cell_type": "code",
   "execution_count": null,
   "id": "be22f09d",
   "metadata": {},
   "outputs": [],
   "source": [
    "List=[]\n",
    "for row in DF.itertuples():\n",
    "    index=row.Index\n",
    "    county=row.CountyCode\n",
    "    \n",
    "    location=driver.find_element(By.NAME, 'ud-current-location-display')\n",
    "    location.send_keys(Keys.CONTROL, 'a')\n",
    "    location.send_keys(Keys.BACKSPACE)\n",
    "    place1=county\n",
    "    place2=county.split(',')[0]+' County,'+county.split(',')[1]\n",
    "    place3=county.split(',')[0]\n",
    "    location.send_keys(place3)\n",
    "    \n",
    "    time.sleep(1)\n",
    "    ul = driver.find_element(By.ID, \"ui-id-1\")\n",
    "    li = ul.find_elements(By.TAG_NAME, \"li\")\n",
    "    Li=[]\n",
    "    for elem in li:\n",
    "        Li.append(elem.text)\n",
    "    if(len(li)>0):\n",
    "        if ((place1 in Li) and (place2 in Li)):\n",
    "            print(\"1\")\n",
    "            location.send_keys(Keys.CONTROL, 'a')\n",
    "            location.send_keys(Keys.BACKSPACE)\n",
    "            location.send_keys(place2)\n",
    "            #time.sleep(0.4)\n",
    "            print(\"Chosen county\")\n",
    "            location.send_keys(Keys.ENTER)\n",
    "            time.sleep(0.8)\n",
    "            #break\n",
    "        elif (place2 in Li):\n",
    "            print(\"2\")\n",
    "            location.send_keys(Keys.CONTROL, 'a')\n",
    "            location.send_keys(Keys.BACKSPACE)\n",
    "            location.send_keys(place2)\n",
    "            #time.sleep(0.4)\n",
    "            print(\"Only county\")\n",
    "            location.send_keys(Keys.ENTER)\n",
    "            time.sleep(0.8)\n",
    "            #break\n",
    "        elif (place1 in Li):\n",
    "            print(\"3\")\n",
    "            location.send_keys(Keys.CONTROL, 'a')\n",
    "            location.send_keys(Keys.BACKSPACE)\n",
    "            location.send_keys(place1)\n",
    "            #time.sleep(0.4)\n",
    "            print(\"City\")\n",
    "            location.send_keys(Keys.ENTER)\n",
    "            time.sleep(0.8)\n",
    "            #break\n",
    "        else:\n",
    "            print(county + \" does not exist for this state!\")\n",
    "            List.append(\"NA\")\n",
    "            DF['TakeHome'].values[index]=\"NA\"\n",
    "            continue\n",
    "                \n",
    "        salary=driver.find_elements(By.XPATH, \"//*[@id='interaction-container']/div[4]/div[3]/div[1]/div[2]/div/span/input\")[0]\n",
    "        salary.send_keys(Keys.CONTROL, 'a')\n",
    "        salary.send_keys(Keys.BACKSPACE)\n",
    "        #time.sleep(0.2)\n",
    "        salary.send_keys(str(int(DF[DF['CountyCode']==county]['Salary'].values[0])))\n",
    "        #time.sleep(0.2)\n",
    "        salary.send_keys(Keys.ENTER)\n",
    "        time.sleep(1)\n",
    "        finalValue=driver.find_elements(By.XPATH, \"//span[@class='js-period-income-after-dol']\")[0]\n",
    "        print(county, finalValue.text)\n",
    "        List.append(finalValue.text)\n",
    "        z=(finalValue.text).replace(\",\" ,\"\")\n",
    "        DF['TakeHome'].values[index]=str(int(z)*2)\n",
    "        #break\n",
    "    \n",
    "    else:\n",
    "        print(county + \" does not exist on website!\")\n",
    "        List.append(\"NA\")\n",
    "        DF['TakeHome'].values[index]=\"NA\"\n",
    "        continue"
   ]
  },
  {
   "cell_type": "code",
   "execution_count": null,
   "id": "d5eb9ae5",
   "metadata": {},
   "outputs": [],
   "source": [
    "DF.loc[:100]"
   ]
  },
  {
   "cell_type": "code",
   "execution_count": null,
   "id": "0d7344e2",
   "metadata": {
    "scrolled": true
   },
   "outputs": [],
   "source": [
    "List"
   ]
  },
  {
   "cell_type": "code",
   "execution_count": null,
   "id": "896eb04e",
   "metadata": {},
   "outputs": [],
   "source": [
    "# Using Chrome to access web\n",
    "driver = webdriver.Chrome(executable_path=r'C:/Users/Parth Shrivastava/Downloads/chromedriver_win32/chromedriver.exe')\n",
    "# Open the website\n",
    "driver.get('https://smartasset.com/taxes/paycheck-calculator')"
   ]
  },
  {
   "cell_type": "code",
   "execution_count": null,
   "id": "8e434bc3",
   "metadata": {
    "scrolled": true
   },
   "outputs": [],
   "source": [
    "List2=[]\n",
    "DF2=DF.copy()\n",
    "for row in (DF2.iloc[767:]).itertuples():\n",
    "    index=row.Index\n",
    "    county=row.CountyCode\n",
    "    \n",
    "    location=driver.find_element(By.NAME, 'ud-current-location-display')\n",
    "    location.send_keys(Keys.CONTROL, 'a')\n",
    "    location.send_keys(Keys.BACKSPACE)\n",
    "    place1=county\n",
    "    place2=county.split(',')[0]+' County,'+county.split(',')[1]\n",
    "    place3=county.split(',')[0]\n",
    "    location.send_keys(place3)\n",
    "    \n",
    "    time.sleep(1)\n",
    "    ul = driver.find_element(By.ID, \"ui-id-1\")\n",
    "    li = ul.find_elements(By.TAG_NAME, \"li\")\n",
    "    Li=[]\n",
    "    for elem in li:\n",
    "        Li.append(elem.text)\n",
    "    if(len(li)>0):\n",
    "        if ((place1 in Li) and (place2 in Li)):\n",
    "            print(\"1\")\n",
    "            location.send_keys(Keys.CONTROL, 'a')\n",
    "            location.send_keys(Keys.BACKSPACE)\n",
    "            location.send_keys(place2)\n",
    "            #time.sleep(0.4)\n",
    "            print(\"Chosen county\")\n",
    "            location.send_keys(Keys.ENTER)\n",
    "            time.sleep(0.8)\n",
    "            #break\n",
    "        elif (place2 in Li):\n",
    "            print(\"2\")\n",
    "            location.send_keys(Keys.CONTROL, 'a')\n",
    "            location.send_keys(Keys.BACKSPACE)\n",
    "            location.send_keys(place2)\n",
    "            #time.sleep(0.4)\n",
    "            print(\"Only county\")\n",
    "            location.send_keys(Keys.ENTER)\n",
    "            time.sleep(0.8)\n",
    "            #break\n",
    "        elif (place1 in Li):\n",
    "            print(\"3\")\n",
    "            location.send_keys(Keys.CONTROL, 'a')\n",
    "            location.send_keys(Keys.BACKSPACE)\n",
    "            location.send_keys(place1)\n",
    "            #time.sleep(0.4)\n",
    "            print(\"City\")\n",
    "            location.send_keys(Keys.ENTER)\n",
    "            time.sleep(0.8)\n",
    "            #break\n",
    "        else:\n",
    "            print(county + \" does not exist for this state!\")\n",
    "            List2.append(\"NA\")\n",
    "            DF2['TakeHome'].values[index]=\"NA\"\n",
    "            continue\n",
    "                \n",
    "        salary=driver.find_elements(By.XPATH, \"//*[@id='interaction-container']/div[4]/div[3]/div[1]/div[2]/div/span/input\")[0]\n",
    "        salary.send_keys(Keys.CONTROL, 'a')\n",
    "        salary.send_keys(Keys.BACKSPACE)\n",
    "        #time.sleep(0.2)\n",
    "        salary.send_keys(str(int(DF2[DF2['CountyCode']==county]['Salary'].values[0])))\n",
    "        #time.sleep(0.2)\n",
    "        salary.send_keys(Keys.ENTER)\n",
    "        time.sleep(1)\n",
    "        finalValue=driver.find_elements(By.XPATH, \"//span[@class='js-period-income-after-dol']\")[0]\n",
    "        print(county, finalValue.text)\n",
    "        List2.append(finalValue.text)\n",
    "        z=(finalValue.text).replace(\",\" ,\"\")\n",
    "        DF2['TakeHome'].values[index]=str(int(z)*2)\n",
    "        #break\n",
    "    \n",
    "    else:\n",
    "        print(county + \" does not exist on website!\")\n",
    "        List2.append(\"NA\")\n",
    "        DF2['TakeHome'].values[index]=\"NA\"\n",
    "        continue"
   ]
  },
  {
   "cell_type": "code",
   "execution_count": null,
   "id": "e498833d",
   "metadata": {},
   "outputs": [],
   "source": [
    "# Using Chrome to access web\n",
    "driver = webdriver.Chrome(executable_path=r'C:/Users/Parth Shrivastava/Downloads/chromedriver_win32/chromedriver.exe')\n",
    "# Open the website\n",
    "driver.get('https://smartasset.com/taxes/paycheck-calculator')"
   ]
  },
  {
   "cell_type": "code",
   "execution_count": null,
   "id": "300aff03",
   "metadata": {
    "scrolled": true
   },
   "outputs": [],
   "source": [
    "List3=[]\n",
    "DF3=DF2.copy()\n",
    "for row in (DF3.iloc[1894:]).itertuples():\n",
    "    index=row.Index\n",
    "    county=row.CountyCode\n",
    "    \n",
    "    location=driver.find_element(By.NAME, 'ud-current-location-display')\n",
    "    location.send_keys(Keys.CONTROL, 'a')\n",
    "    location.send_keys(Keys.BACKSPACE)\n",
    "    place1=county\n",
    "    place2=county.split(',')[0]+' County,'+county.split(',')[1]\n",
    "    place3=county.split(',')[0]\n",
    "    location.send_keys(place3)\n",
    "    \n",
    "    time.sleep(1)\n",
    "    ul = driver.find_element(By.ID, \"ui-id-1\")\n",
    "    li = ul.find_elements(By.TAG_NAME, \"li\")\n",
    "    Li=[]\n",
    "    for elem in li:\n",
    "        Li.append(elem.text)\n",
    "    if(len(li)>0):\n",
    "        if ((place1 in Li) and (place2 in Li)):\n",
    "            print(\"1\")\n",
    "            location.send_keys(Keys.CONTROL, 'a')\n",
    "            location.send_keys(Keys.BACKSPACE)\n",
    "            location.send_keys(place2)\n",
    "            #time.sleep(0.4)\n",
    "            print(\"Chosen county\")\n",
    "            location.send_keys(Keys.ENTER)\n",
    "            time.sleep(0.8)\n",
    "            #break\n",
    "        elif (place2 in Li):\n",
    "            print(\"2\")\n",
    "            location.send_keys(Keys.CONTROL, 'a')\n",
    "            location.send_keys(Keys.BACKSPACE)\n",
    "            location.send_keys(place2)\n",
    "            #time.sleep(0.4)\n",
    "            print(\"Only county\")\n",
    "            location.send_keys(Keys.ENTER)\n",
    "            time.sleep(0.8)\n",
    "            #break\n",
    "        elif (place1 in Li):\n",
    "            print(\"3\")\n",
    "            location.send_keys(Keys.CONTROL, 'a')\n",
    "            location.send_keys(Keys.BACKSPACE)\n",
    "            location.send_keys(place1)\n",
    "            #time.sleep(0.4)\n",
    "            print(\"City\")\n",
    "            location.send_keys(Keys.ENTER)\n",
    "            time.sleep(0.8)\n",
    "            #break\n",
    "        else:\n",
    "            print(county + \" does not exist for this state!\")\n",
    "            List3.append(\"NA\")\n",
    "            DF3['TakeHome'].values[index]=\"NA\"\n",
    "            continue\n",
    "                \n",
    "        salary=driver.find_elements(By.XPATH, \"//*[@id='interaction-container']/div[4]/div[3]/div[1]/div[2]/div/span/input\")[0]\n",
    "        salary.send_keys(Keys.CONTROL, 'a')\n",
    "        salary.send_keys(Keys.BACKSPACE)\n",
    "        #time.sleep(0.2)\n",
    "        salary.send_keys(str(int(DF3[DF3['CountyCode']==county]['Salary'].values[0])))\n",
    "        #time.sleep(0.2)\n",
    "        salary.send_keys(Keys.ENTER)\n",
    "        time.sleep(1)\n",
    "        finalValue=driver.find_elements(By.XPATH, \"//span[@class='js-period-income-after-dol']\")[0]\n",
    "        print(county, finalValue.text)\n",
    "        List3.append(finalValue.text)\n",
    "        z=(finalValue.text).replace(\",\" ,\"\")\n",
    "        DF3['TakeHome'].values[index]=str(int(z)*2)\n",
    "        #break\n",
    "    \n",
    "    else:\n",
    "        print(county + \" does not exist on website!\")\n",
    "        List3.append(\"NA\")\n",
    "        DF3['TakeHome'].values[index]=\"NA\"\n",
    "        continue"
   ]
  },
  {
   "cell_type": "code",
   "execution_count": null,
   "id": "a4b8608c",
   "metadata": {},
   "outputs": [],
   "source": [
    "DF3.iloc[1890:]"
   ]
  },
  {
   "cell_type": "code",
   "execution_count": null,
   "id": "9e3bb5b4",
   "metadata": {
    "scrolled": true
   },
   "outputs": [],
   "source": [
    "DF3[DF3.TakeHome==\"NA\"].head(64)"
   ]
  },
  {
   "cell_type": "code",
   "execution_count": 281,
   "id": "9a8d7cd3",
   "metadata": {},
   "outputs": [],
   "source": [
    "DF3['TakeHome'].values[242]=\"2314\"\n",
    "DF3['TakeHome'].values[243]=\"2486\"\n",
    "DF3['TakeHome'].values[563]=\"2517\"\n",
    "DF3['TakeHome'].values[596]=\"2622\"\n",
    "DF3['TakeHome'].values[635]=\"3176\"\n",
    "DF3['TakeHome'].values[733]=\"2894\"\n",
    "DF3['TakeHome'].values[1132]=\"2648\"\n",
    "DF3['TakeHome'].values[1198]=\"3725\"\n",
    "DF3['TakeHome'].values[1199]=\"2783\"\n",
    "DF3['TakeHome'].values[1200]=\"4175\"\n",
    "DF3['TakeHome'].values[1206]=\"4181\"\n",
    "DF3['TakeHome'].values[1336]=\"2519\"\n",
    "DF3['TakeHome'].values[1560]=\"3096\"\n",
    "DF3['TakeHome'].values[1581]=\"3988\"\n",
    "DF3['TakeHome'].values[1680]=\"2532\"\n",
    "DF3['TakeHome'].values[1747]=\"3514\"\n",
    "DF3['TakeHome'].values[1786]=\"2710\"\n",
    "DF3['TakeHome'].values[1996]=\"2714\"\n",
    "DF3['TakeHome'].values[2389]=\"2913\"\n",
    "DF3['TakeHome'].values[2566]=\"3393\"\n",
    "DF3['TakeHome'].values[2718]=\"3108\"\n",
    "DF3['TakeHome'].values[2729]=\"4589\"\n",
    "DF3['TakeHome'].values[2730]=\"2498\"\n",
    "DF3['TakeHome'].values[2877]=\"4956\"\n",
    "DF3['TakeHome'].values[2878]=\"3068\"\n",
    "DF3['TakeHome'].values[2879]=\"3350\"\n",
    "DF3['TakeHome'].values[2880]=\"3715\"\n",
    "DF3['TakeHome'].values[2881]=\"3868\"\n",
    "DF3['TakeHome'].values[2882]=\"3745\"\n",
    "DF3['TakeHome'].values[2883]=\"4019\"\n",
    "DF3['TakeHome'].values[2884]=\"3306\"\n",
    "DF3['TakeHome'].values[2885]=\"3298\"\n",
    "DF3['TakeHome'].values[2886]=\"3095\"\n",
    "DF3['TakeHome'].values[2917]=\"4176\"\n",
    "DF3['TakeHome'].values[2929]=\"2436\"\n",
    "DF3['TakeHome'].values[2930]=\"2887\"\n",
    "DF3['TakeHome'].values[2995]=\"2555\"\n",
    "\n"
   ]
  },
  {
   "cell_type": "code",
   "execution_count": null,
   "id": "ce6e0799",
   "metadata": {
    "scrolled": true
   },
   "outputs": [],
   "source": [
    "DF3[DF3.TakeHome==\"NA\"]"
   ]
  },
  {
   "cell_type": "code",
   "execution_count": null,
   "id": "0655b6fa",
   "metadata": {
    "collapsed": true
   },
   "outputs": [],
   "source": [
    "Alaska=DF3.iloc[67:90]\n",
    "remove_words=['Borough','Census','Area','Municipality','and','City']\n",
    "toRemove= r'\\b(?:{})\\b'.format('|'.join(remove_words))\n",
    "Alaska['CountyCode'] = Alaska['CountyCode'].str.replace(toRemove, '')"
   ]
  },
  {
   "cell_type": "code",
   "execution_count": null,
   "id": "44ef3cc4",
   "metadata": {
    "scrolled": true
   },
   "outputs": [],
   "source": [
    "Alaska"
   ]
  },
  {
   "cell_type": "code",
   "execution_count": null,
   "id": "8a33f926",
   "metadata": {},
   "outputs": [],
   "source": [
    "Alaska['CountyCode'] = Alaska['CountyCode'].str.replace(' \\,', ',')"
   ]
  },
  {
   "cell_type": "code",
   "execution_count": null,
   "id": "a1135227",
   "metadata": {},
   "outputs": [],
   "source": [
    "Alaska['CountyCode'].iloc[3]"
   ]
  },
  {
   "cell_type": "code",
   "execution_count": null,
   "id": "e6a48a1b",
   "metadata": {},
   "outputs": [],
   "source": [
    "Alaska['CountyCode'].values[67]"
   ]
  },
  {
   "cell_type": "code",
   "execution_count": null,
   "id": "9e7bc0ae",
   "metadata": {},
   "outputs": [],
   "source": [
    "# Using Chrome to access web\n",
    "driver = webdriver.Chrome(executable_path=r'C:/Users/Parth Shrivastava/Downloads/chromedriver_win32/chromedriver.exe')\n",
    "# Open the website\n",
    "driver.get('https://smartasset.com/taxes/paycheck-calculator')"
   ]
  },
  {
   "cell_type": "code",
   "execution_count": null,
   "id": "1bd626e7",
   "metadata": {
    "scrolled": true
   },
   "outputs": [],
   "source": [
    "List3=[]\n",
    "#Alaska=DF3.iloc[67:90]\n",
    "for row in (DF3.iloc[67:90]).itertuples():\n",
    "    index=row.Index\n",
    "    county=row.CountyCode\n",
    "    \n",
    "    location=driver.find_element(By.NAME, 'ud-current-location-display')\n",
    "    location.send_keys(Keys.CONTROL, 'a')\n",
    "    location.send_keys(Keys.BACKSPACE)\n",
    "    place1=county\n",
    "    place2=county.split(',')[0]+' County,'+county.split(',')[1]\n",
    "    place3=county.split(',')[0]\n",
    "    location.send_keys(place3)\n",
    "    \n",
    "    time.sleep(1)\n",
    "    ul = driver.find_element(By.ID, \"ui-id-1\")\n",
    "    li = ul.find_elements(By.TAG_NAME, \"li\")\n",
    "    Li=[]\n",
    "    for elem in li:\n",
    "        Li.append(elem.text)\n",
    "    if(len(li)>0):\n",
    "        if ((place1 in Li) and (place2 in Li)):\n",
    "            print(\"1\")\n",
    "            location.send_keys(Keys.CONTROL, 'a')\n",
    "            location.send_keys(Keys.BACKSPACE)\n",
    "            location.send_keys(place2)\n",
    "            #time.sleep(0.4)\n",
    "            print(\"Chosen county\")\n",
    "            location.send_keys(Keys.ENTER)\n",
    "            time.sleep(0.8)\n",
    "            #break\n",
    "        elif (place2 in Li):\n",
    "            print(\"2\")\n",
    "            location.send_keys(Keys.CONTROL, 'a')\n",
    "            location.send_keys(Keys.BACKSPACE)\n",
    "            location.send_keys(place2)\n",
    "            #time.sleep(0.4)\n",
    "            print(\"Only county\")\n",
    "            location.send_keys(Keys.ENTER)\n",
    "            time.sleep(0.8)\n",
    "            #break\n",
    "        elif (place1 in Li):\n",
    "            print(\"3\")\n",
    "            location.send_keys(Keys.CONTROL, 'a')\n",
    "            location.send_keys(Keys.BACKSPACE)\n",
    "            location.send_keys(place1)\n",
    "            #time.sleep(0.4)\n",
    "            print(\"City\")\n",
    "            location.send_keys(Keys.ENTER)\n",
    "            time.sleep(0.8)\n",
    "            #break\n",
    "        else:\n",
    "            print(county + \" does not exist for this state!\")\n",
    "            List3.append(\"NA\")\n",
    "            DF3['TakeHome'].values[index]=\"NA\"\n",
    "            continue\n",
    "                \n",
    "        salary=driver.find_elements(By.XPATH, \"//*[@id='interaction-container']/div[4]/div[3]/div[1]/div[2]/div/span/input\")[0]\n",
    "        salary.send_keys(Keys.CONTROL, 'a')\n",
    "        salary.send_keys(Keys.BACKSPACE)\n",
    "        #time.sleep(0.2)\n",
    "        salary.send_keys(str(int(DF3[DF3['CountyCode']==county]['Salary'].values[0])))\n",
    "        #time.sleep(0.2)\n",
    "        salary.send_keys(Keys.ENTER)\n",
    "        time.sleep(1)\n",
    "        finalValue=driver.find_elements(By.XPATH, \"//span[@class='js-period-income-after-dol']\")[0]\n",
    "        print(county, finalValue.text)\n",
    "        List3.append(finalValue.text)\n",
    "        z=(finalValue.text).replace(\",\" ,\"\")\n",
    "        DF3['TakeHome'].values[index]=str(int(z)*2)\n",
    "        #break\n",
    "    \n",
    "    else:\n",
    "        # print(county + \" does not exist on website!\")\n",
    "        List3.append(\"NA\")\n",
    "        DF3['TakeHome'].values[index]=\"NA\"\n",
    "        continue"
   ]
  },
  {
   "cell_type": "code",
   "execution_count": null,
   "id": "3ecdcddb",
   "metadata": {
    "scrolled": true
   },
   "outputs": [],
   "source": [
    "#DF3.iloc[67:90]\n",
    "DF3[DF3['TakeHome']==\"NA\"]\n",
    "#Alaska"
   ]
  },
  {
   "cell_type": "code",
   "execution_count": 328,
   "id": "3b0c0bf6",
   "metadata": {},
   "outputs": [],
   "source": [
    "DF3['TakeHome'].values[76]=\"3950\"\n",
    "DF3['TakeHome'].values[80]=\"3106\"\n",
    "DF3['TakeHome'].values[81]=\"3230\"\n",
    "DF3['TakeHome'].values[85]=\"3626\"\n",
    "DF3['TakeHome'].values[87]=\"4146\"\n",
    "DF3['TakeHome'].values[88]=\"3536\"\n",
    "DF3['TakeHome'].values[89]=\"2891\""
   ]
  },
  {
   "cell_type": "code",
   "execution_count": null,
   "id": "093c5517",
   "metadata": {},
   "outputs": [],
   "source": [
    "DF3[DF3['TakeHome']==\"NA\"]"
   ]
  },
  {
   "cell_type": "code",
   "execution_count": 330,
   "id": "505202ad",
   "metadata": {},
   "outputs": [],
   "source": [
    "DF3.to_excel(r'C:\\Users\\Parth Shrivastava\\Parth.xlsx', index = False)"
   ]
  },
  {
   "cell_type": "code",
   "execution_count": null,
   "id": "76ef6468",
   "metadata": {},
   "outputs": [],
   "source": [
    "Rahul=pd.read_excel('Desktop//Rahul.xlsx')\n",
    "abs(DF3.iloc[1579:,7].astype(float)-Rahul.iloc[1578:, 5])"
   ]
  },
  {
   "cell_type": "code",
   "execution_count": null,
   "id": "ae6d53aa",
   "metadata": {},
   "outputs": [],
   "source": [
    "Rahul.iloc[1578:, 5]"
   ]
  },
  {
   "cell_type": "code",
   "execution_count": null,
   "id": "7ddb162c",
   "metadata": {
    "scrolled": true
   },
   "outputs": [],
   "source": [
    "DF3.iloc[1579:,7].astype(float)"
   ]
  },
  {
   "cell_type": "code",
   "execution_count": null,
   "id": "5428f5bb",
   "metadata": {},
   "outputs": [],
   "source": [
    "parth=pd.read_excel(r\"C:\\Users\\Parth Shrivastava\\OneDrive\\Parth 1.xlsx\")\n",
    "parth.iloc[1579:,9]"
   ]
  },
  {
   "cell_type": "code",
   "execution_count": null,
   "id": "a0fb1b3e",
   "metadata": {
    "scrolled": true
   },
   "outputs": [],
   "source": [
    "parth[abs(parth.iloc[:,9])>1]"
   ]
  },
  {
   "cell_type": "code",
   "execution_count": null,
   "id": "577d2c29",
   "metadata": {},
   "outputs": [],
   "source": [
    "z=\"1,341\"\n",
    "z=z.replace(\",\" ,\"\")\n",
    "z1=str(int(z)*2)\n",
    "z1"
   ]
  },
  {
   "cell_type": "code",
   "execution_count": null,
   "id": "920e5c73",
   "metadata": {},
   "outputs": [],
   "source": [
    "z.replace(\"\\,\" ,\"\")\n",
    "z"
   ]
  },
  {
   "cell_type": "code",
   "execution_count": null,
   "id": "5135476d",
   "metadata": {},
   "outputs": [],
   "source": [
    "astring=\"Autauga, AL\"\n",
    "bstring=\"Autauga County, AL\"\n",
    "ast=[]\n",
    "ast.extend([\"hey\"])\n",
    "if (\"Autauga, AL\" in ast and \"Autauga County, AL\" in ast):\n",
    "    print(\"1\")\n",
    "elif (\"Autauga, AL\" in ast):\n",
    "    print(\"2\")\n",
    "elif (\"Autauga County, AL\" in ast):\n",
    "    print(\"3\")\n",
    "else:\n",
    "    print(\"NO\")"
   ]
  },
  {
   "cell_type": "code",
   "execution_count": null,
   "id": "a8391771",
   "metadata": {},
   "outputs": [],
   "source": [
    "for place in li:\n",
    "            if(place.text==place1):\n",
    "                location.send_keys(Keys.CONTROL, 'a')\n",
    "                location.send_keys(Keys.BACKSPACE)\n",
    "                location.send_keys(place1)\n",
    "                time.sleep(1)\n",
    "                print(\"It is county\")\n",
    "                location.send_keys(Keys.ENTER)\n",
    "                time.sleep(1)\n",
    "                break\n",
    "            elif(place.text==place2):\n",
    "                location.send_keys(Keys.CONTROL, 'a')\n",
    "                location.send_keys(Keys.BACKSPACE)\n",
    "                location.send_keys(place2)\n",
    "                time.sleep(1)\n",
    "                print(\"Not county\")\n",
    "                location.send_keys(Keys.ENTER)\n",
    "                time.sleep(1)\n",
    "                break\n",
    "            else:\n",
    "                continue"
   ]
  },
  {
   "cell_type": "code",
   "execution_count": null,
   "id": "3b2c3514",
   "metadata": {},
   "outputs": [],
   "source": [
    "List"
   ]
  },
  {
   "cell_type": "code",
   "execution_count": null,
   "id": "a94cdf16",
   "metadata": {
    "scrolled": true
   },
   "outputs": [],
   "source": [
    "driver.find_elements_by_xpath(\"//span[@class='js-period-income-after-dol']\")[0].text"
   ]
  },
  {
   "cell_type": "code",
   "execution_count": null,
   "id": "7ece93e3",
   "metadata": {},
   "outputs": [],
   "source": [
    "df['GeoName'][2].split(',')[0]+' County,'+df['GeoName'][2].split(',')[1]"
   ]
  },
  {
   "cell_type": "code",
   "execution_count": null,
   "id": "d6472b6f",
   "metadata": {
    "scrolled": true
   },
   "outputs": [],
   "source": [
    "for county in df['GeoName'][df['GeoName'].str.contains(',')]:\n",
    "    print(county)"
   ]
  },
  {
   "cell_type": "code",
   "execution_count": null,
   "id": "190949b9",
   "metadata": {},
   "outputs": [],
   "source": []
  }
 ],
 "metadata": {
  "kernelspec": {
   "display_name": "Python 3",
   "language": "python",
   "name": "python3"
  },
  "language_info": {
   "codemirror_mode": {
    "name": "ipython",
    "version": 3
   },
   "file_extension": ".py",
   "mimetype": "text/x-python",
   "name": "python",
   "nbconvert_exporter": "python",
   "pygments_lexer": "ipython3",
   "version": "3.8.8"
  }
 },
 "nbformat": 4,
 "nbformat_minor": 5
}
